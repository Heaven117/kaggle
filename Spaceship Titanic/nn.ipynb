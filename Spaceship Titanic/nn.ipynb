{
 "cells": [
  {
   "cell_type": "markdown",
   "source": [
    "# 使用Pytorch 二层神经网络实现"
   ],
   "metadata": {
    "collapsed": false
   }
  },
  {
   "cell_type": "code",
   "execution_count": 1,
   "outputs": [
    {
     "name": "stdout",
     "output_type": "stream",
     "text": [
      "./data/model.pt\n",
      "./data/test.csv\n",
      "./data/submission_byNN.csv\n",
      "./data/train.csv\n",
      "./data/sample_submission.csv\n"
     ]
    }
   ],
   "source": [
    "import numpy as np\n",
    "import pandas as pd\n",
    "import os\n",
    "for dirname, _, filenames in os.walk('./data'):\n",
    "    for filename in filenames:\n",
    "        print(os.path.join(dirname, filename))"
   ],
   "metadata": {
    "collapsed": false,
    "ExecuteTime": {
     "start_time": "2023-05-25T11:17:56.696122Z",
     "end_time": "2023-05-25T11:17:57.881444Z"
    }
   }
  },
  {
   "cell_type": "code",
   "execution_count": 2,
   "outputs": [],
   "source": [
    "from sklearn.model_selection import train_test_split\n",
    "from sklearn import preprocessing\n",
    "import torch\n",
    "import torch.nn as nn\n",
    "import torch.nn.functional as F\n",
    "import torch.optim as optim"
   ],
   "metadata": {
    "collapsed": false,
    "ExecuteTime": {
     "start_time": "2023-05-25T11:17:57.883340Z",
     "end_time": "2023-05-25T11:18:00.503415Z"
    }
   }
  },
  {
   "cell_type": "markdown",
   "source": [
    "## Data\n",
    "## load Dataset\n",
    "一共有8693条数据，14列，其中12个特征，Transported为目标预测值"
   ],
   "metadata": {
    "collapsed": false
   }
  },
  {
   "cell_type": "code",
   "execution_count": 3,
   "outputs": [
    {
     "name": "stdout",
     "output_type": "stream",
     "text": [
      "Full train dataset shape is (8693, 14)\n"
     ]
    },
    {
     "data": {
      "text/plain": "  PassengerId HomePlanet CryoSleep  Cabin  Destination   Age    VIP  \\\n0     0001_01     Europa     False  B/0/P  TRAPPIST-1e  39.0  False   \n1     0002_01      Earth     False  F/0/S  TRAPPIST-1e  24.0  False   \n2     0003_01     Europa     False  A/0/S  TRAPPIST-1e  58.0   True   \n3     0003_02     Europa     False  A/0/S  TRAPPIST-1e  33.0  False   \n4     0004_01      Earth     False  F/1/S  TRAPPIST-1e  16.0  False   \n\n   RoomService  FoodCourt  ShoppingMall     Spa  VRDeck               Name  \\\n0          0.0        0.0           0.0     0.0     0.0    Maham Ofracculy   \n1        109.0        9.0          25.0   549.0    44.0       Juanna Vines   \n2         43.0     3576.0           0.0  6715.0    49.0      Altark Susent   \n3          0.0     1283.0         371.0  3329.0   193.0       Solam Susent   \n4        303.0       70.0         151.0   565.0     2.0  Willy Santantines   \n\n   Transported  \n0        False  \n1         True  \n2        False  \n3        False  \n4         True  ",
      "text/html": "<div>\n<style scoped>\n    .dataframe tbody tr th:only-of-type {\n        vertical-align: middle;\n    }\n\n    .dataframe tbody tr th {\n        vertical-align: top;\n    }\n\n    .dataframe thead th {\n        text-align: right;\n    }\n</style>\n<table border=\"1\" class=\"dataframe\">\n  <thead>\n    <tr style=\"text-align: right;\">\n      <th></th>\n      <th>PassengerId</th>\n      <th>HomePlanet</th>\n      <th>CryoSleep</th>\n      <th>Cabin</th>\n      <th>Destination</th>\n      <th>Age</th>\n      <th>VIP</th>\n      <th>RoomService</th>\n      <th>FoodCourt</th>\n      <th>ShoppingMall</th>\n      <th>Spa</th>\n      <th>VRDeck</th>\n      <th>Name</th>\n      <th>Transported</th>\n    </tr>\n  </thead>\n  <tbody>\n    <tr>\n      <th>0</th>\n      <td>0001_01</td>\n      <td>Europa</td>\n      <td>False</td>\n      <td>B/0/P</td>\n      <td>TRAPPIST-1e</td>\n      <td>39.0</td>\n      <td>False</td>\n      <td>0.0</td>\n      <td>0.0</td>\n      <td>0.0</td>\n      <td>0.0</td>\n      <td>0.0</td>\n      <td>Maham Ofracculy</td>\n      <td>False</td>\n    </tr>\n    <tr>\n      <th>1</th>\n      <td>0002_01</td>\n      <td>Earth</td>\n      <td>False</td>\n      <td>F/0/S</td>\n      <td>TRAPPIST-1e</td>\n      <td>24.0</td>\n      <td>False</td>\n      <td>109.0</td>\n      <td>9.0</td>\n      <td>25.0</td>\n      <td>549.0</td>\n      <td>44.0</td>\n      <td>Juanna Vines</td>\n      <td>True</td>\n    </tr>\n    <tr>\n      <th>2</th>\n      <td>0003_01</td>\n      <td>Europa</td>\n      <td>False</td>\n      <td>A/0/S</td>\n      <td>TRAPPIST-1e</td>\n      <td>58.0</td>\n      <td>True</td>\n      <td>43.0</td>\n      <td>3576.0</td>\n      <td>0.0</td>\n      <td>6715.0</td>\n      <td>49.0</td>\n      <td>Altark Susent</td>\n      <td>False</td>\n    </tr>\n    <tr>\n      <th>3</th>\n      <td>0003_02</td>\n      <td>Europa</td>\n      <td>False</td>\n      <td>A/0/S</td>\n      <td>TRAPPIST-1e</td>\n      <td>33.0</td>\n      <td>False</td>\n      <td>0.0</td>\n      <td>1283.0</td>\n      <td>371.0</td>\n      <td>3329.0</td>\n      <td>193.0</td>\n      <td>Solam Susent</td>\n      <td>False</td>\n    </tr>\n    <tr>\n      <th>4</th>\n      <td>0004_01</td>\n      <td>Earth</td>\n      <td>False</td>\n      <td>F/1/S</td>\n      <td>TRAPPIST-1e</td>\n      <td>16.0</td>\n      <td>False</td>\n      <td>303.0</td>\n      <td>70.0</td>\n      <td>151.0</td>\n      <td>565.0</td>\n      <td>2.0</td>\n      <td>Willy Santantines</td>\n      <td>True</td>\n    </tr>\n  </tbody>\n</table>\n</div>"
     },
     "execution_count": 3,
     "metadata": {},
     "output_type": "execute_result"
    }
   ],
   "source": [
    "dataset_df = pd.read_csv('./data/train.csv')\n",
    "print(\"Full train dataset shape is {}\".format(dataset_df.shape))\n",
    "dataset_df.head(5)\n",
    "# dataset_df.describe()\n",
    "# dataset_df.info()\n",
    "# # label的柱状图显示\n",
    "# plot_df = dataset_df.Transported.value_counts()\n",
    "# plot_df.plot(kind=\"bar\")"
   ],
   "metadata": {
    "collapsed": false,
    "ExecuteTime": {
     "start_time": "2023-05-25T11:18:00.503128Z",
     "end_time": "2023-05-25T11:18:00.558507Z"
    }
   }
  },
  {
   "cell_type": "markdown",
   "source": [
    "### data process"
   ],
   "metadata": {
    "collapsed": false
   }
  },
  {
   "cell_type": "markdown",
   "source": [
    "列Cabin(舱位号)的值是一个字符串，格式为Deck/Cabin_num/Side。这里我们将拆分Cabin列并创建3个新列Deck, Cabin_num和Side，因为在这些单独的数据上训练模型会更容易。将“Cabin”列拆分为“Deck”、“Cabin_num”和“Side”列"
   ],
   "metadata": {
    "collapsed": false
   }
  },
  {
   "cell_type": "code",
   "execution_count": 4,
   "outputs": [
    {
     "data": {
      "text/plain": "  HomePlanet CryoSleep  Destination   Age    VIP  RoomService  FoodCourt  \\\n0     Europa     False  TRAPPIST-1e  39.0  False          0.0        0.0   \n1      Earth     False  TRAPPIST-1e  24.0  False        109.0        9.0   \n2     Europa     False  TRAPPIST-1e  58.0   True         43.0     3576.0   \n3     Europa     False  TRAPPIST-1e  33.0  False          0.0     1283.0   \n4      Earth     False  TRAPPIST-1e  16.0  False        303.0       70.0   \n\n   ShoppingMall     Spa  VRDeck Deck Num Side  \n0           0.0     0.0     0.0    B   0    P  \n1          25.0   549.0    44.0    F   0    S  \n2           0.0  6715.0    49.0    A   0    S  \n3         371.0  3329.0   193.0    A   0    S  \n4         151.0   565.0     2.0    F   1    S  ",
      "text/html": "<div>\n<style scoped>\n    .dataframe tbody tr th:only-of-type {\n        vertical-align: middle;\n    }\n\n    .dataframe tbody tr th {\n        vertical-align: top;\n    }\n\n    .dataframe thead th {\n        text-align: right;\n    }\n</style>\n<table border=\"1\" class=\"dataframe\">\n  <thead>\n    <tr style=\"text-align: right;\">\n      <th></th>\n      <th>HomePlanet</th>\n      <th>CryoSleep</th>\n      <th>Destination</th>\n      <th>Age</th>\n      <th>VIP</th>\n      <th>RoomService</th>\n      <th>FoodCourt</th>\n      <th>ShoppingMall</th>\n      <th>Spa</th>\n      <th>VRDeck</th>\n      <th>Deck</th>\n      <th>Num</th>\n      <th>Side</th>\n    </tr>\n  </thead>\n  <tbody>\n    <tr>\n      <th>0</th>\n      <td>Europa</td>\n      <td>False</td>\n      <td>TRAPPIST-1e</td>\n      <td>39.0</td>\n      <td>False</td>\n      <td>0.0</td>\n      <td>0.0</td>\n      <td>0.0</td>\n      <td>0.0</td>\n      <td>0.0</td>\n      <td>B</td>\n      <td>0</td>\n      <td>P</td>\n    </tr>\n    <tr>\n      <th>1</th>\n      <td>Earth</td>\n      <td>False</td>\n      <td>TRAPPIST-1e</td>\n      <td>24.0</td>\n      <td>False</td>\n      <td>109.0</td>\n      <td>9.0</td>\n      <td>25.0</td>\n      <td>549.0</td>\n      <td>44.0</td>\n      <td>F</td>\n      <td>0</td>\n      <td>S</td>\n    </tr>\n    <tr>\n      <th>2</th>\n      <td>Europa</td>\n      <td>False</td>\n      <td>TRAPPIST-1e</td>\n      <td>58.0</td>\n      <td>True</td>\n      <td>43.0</td>\n      <td>3576.0</td>\n      <td>0.0</td>\n      <td>6715.0</td>\n      <td>49.0</td>\n      <td>A</td>\n      <td>0</td>\n      <td>S</td>\n    </tr>\n    <tr>\n      <th>3</th>\n      <td>Europa</td>\n      <td>False</td>\n      <td>TRAPPIST-1e</td>\n      <td>33.0</td>\n      <td>False</td>\n      <td>0.0</td>\n      <td>1283.0</td>\n      <td>371.0</td>\n      <td>3329.0</td>\n      <td>193.0</td>\n      <td>A</td>\n      <td>0</td>\n      <td>S</td>\n    </tr>\n    <tr>\n      <th>4</th>\n      <td>Earth</td>\n      <td>False</td>\n      <td>TRAPPIST-1e</td>\n      <td>16.0</td>\n      <td>False</td>\n      <td>303.0</td>\n      <td>70.0</td>\n      <td>151.0</td>\n      <td>565.0</td>\n      <td>2.0</td>\n      <td>F</td>\n      <td>1</td>\n      <td>S</td>\n    </tr>\n  </tbody>\n</table>\n</div>"
     },
     "execution_count": 4,
     "metadata": {},
     "output_type": "execute_result"
    }
   ],
   "source": [
    "# 删除PassengerId、Name两个没用的列\n",
    "dataset_df = dataset_df.drop(['PassengerId', 'Name'], axis=1)\n",
    "target = dataset_df['Transported'].astype(int)\n",
    "dataset_df = dataset_df.drop('Transported',axis=1)\n",
    "dataset_df[[\"Deck\", \"Num\", \"Side\"]] = dataset_df[\"Cabin\"].str.split(\"/\", expand=True)\n",
    "dataset_df = dataset_df.drop('Cabin',axis=1)\n",
    "dataset_df.head()"
   ],
   "metadata": {
    "collapsed": false,
    "ExecuteTime": {
     "start_time": "2023-05-25T11:18:00.574350Z",
     "end_time": "2023-05-25T11:18:00.667544Z"
    }
   }
  },
  {
   "cell_type": "markdown",
   "source": [
    "缺失值处理: 布尔和连续值赋0，离散数据填充“U”.布尔类型转为int"
   ],
   "metadata": {
    "collapsed": false
   }
  },
  {
   "cell_type": "code",
   "execution_count": 5,
   "outputs": [
    {
     "data": {
      "text/plain": "CryoSleep       217\nShoppingMall    208\nVIP             203\nHomePlanet      201\nDeck            199\nNum             199\nSide            199\nVRDeck          188\nFoodCourt       183\nSpa             183\nDestination     182\nRoomService     181\nAge             179\ndtype: int64"
     },
     "execution_count": 5,
     "metadata": {},
     "output_type": "execute_result"
    }
   ],
   "source": [
    "dataset_df.isnull().sum().sort_values(ascending=False)"
   ],
   "metadata": {
    "collapsed": false,
    "ExecuteTime": {
     "start_time": "2023-05-25T11:18:00.613814Z",
     "end_time": "2023-05-25T11:18:00.696208Z"
    }
   }
  },
  {
   "cell_type": "code",
   "execution_count": 6,
   "outputs": [],
   "source": [
    "null_col_dec=['HomePlanet','Destination','Deck','Side']\n",
    "null_col_con=['Age','RoomService','FoodCourt','ShoppingMall','Spa','VRDeck',]\n",
    "null_col_bool=['CryoSleep','VIP','Num']"
   ],
   "metadata": {
    "collapsed": false,
    "ExecuteTime": {
     "start_time": "2023-05-25T11:18:00.626712Z",
     "end_time": "2023-05-25T11:18:00.734349Z"
    }
   }
  },
  {
   "cell_type": "code",
   "execution_count": 7,
   "outputs": [
    {
     "data": {
      "text/plain": "  HomePlanet  CryoSleep  Destination   Age  VIP  RoomService  FoodCourt  \\\n0     Europa          0  TRAPPIST-1e  39.0    0          0.0        0.0   \n1      Earth          0  TRAPPIST-1e  24.0    0        109.0        9.0   \n2     Europa          0  TRAPPIST-1e  58.0    1         43.0     3576.0   \n3     Europa          0  TRAPPIST-1e  33.0    0          0.0     1283.0   \n4      Earth          0  TRAPPIST-1e  16.0    0        303.0       70.0   \n\n   ShoppingMall     Spa  VRDeck Deck  Num Side  \n0           0.0     0.0     0.0    B    0    P  \n1          25.0   549.0    44.0    F    0    S  \n2           0.0  6715.0    49.0    A    0    S  \n3         371.0  3329.0   193.0    A    0    S  \n4         151.0   565.0     2.0    F    1    S  ",
      "text/html": "<div>\n<style scoped>\n    .dataframe tbody tr th:only-of-type {\n        vertical-align: middle;\n    }\n\n    .dataframe tbody tr th {\n        vertical-align: top;\n    }\n\n    .dataframe thead th {\n        text-align: right;\n    }\n</style>\n<table border=\"1\" class=\"dataframe\">\n  <thead>\n    <tr style=\"text-align: right;\">\n      <th></th>\n      <th>HomePlanet</th>\n      <th>CryoSleep</th>\n      <th>Destination</th>\n      <th>Age</th>\n      <th>VIP</th>\n      <th>RoomService</th>\n      <th>FoodCourt</th>\n      <th>ShoppingMall</th>\n      <th>Spa</th>\n      <th>VRDeck</th>\n      <th>Deck</th>\n      <th>Num</th>\n      <th>Side</th>\n    </tr>\n  </thead>\n  <tbody>\n    <tr>\n      <th>0</th>\n      <td>Europa</td>\n      <td>0</td>\n      <td>TRAPPIST-1e</td>\n      <td>39.0</td>\n      <td>0</td>\n      <td>0.0</td>\n      <td>0.0</td>\n      <td>0.0</td>\n      <td>0.0</td>\n      <td>0.0</td>\n      <td>B</td>\n      <td>0</td>\n      <td>P</td>\n    </tr>\n    <tr>\n      <th>1</th>\n      <td>Earth</td>\n      <td>0</td>\n      <td>TRAPPIST-1e</td>\n      <td>24.0</td>\n      <td>0</td>\n      <td>109.0</td>\n      <td>9.0</td>\n      <td>25.0</td>\n      <td>549.0</td>\n      <td>44.0</td>\n      <td>F</td>\n      <td>0</td>\n      <td>S</td>\n    </tr>\n    <tr>\n      <th>2</th>\n      <td>Europa</td>\n      <td>0</td>\n      <td>TRAPPIST-1e</td>\n      <td>58.0</td>\n      <td>1</td>\n      <td>43.0</td>\n      <td>3576.0</td>\n      <td>0.0</td>\n      <td>6715.0</td>\n      <td>49.0</td>\n      <td>A</td>\n      <td>0</td>\n      <td>S</td>\n    </tr>\n    <tr>\n      <th>3</th>\n      <td>Europa</td>\n      <td>0</td>\n      <td>TRAPPIST-1e</td>\n      <td>33.0</td>\n      <td>0</td>\n      <td>0.0</td>\n      <td>1283.0</td>\n      <td>371.0</td>\n      <td>3329.0</td>\n      <td>193.0</td>\n      <td>A</td>\n      <td>0</td>\n      <td>S</td>\n    </tr>\n    <tr>\n      <th>4</th>\n      <td>Earth</td>\n      <td>0</td>\n      <td>TRAPPIST-1e</td>\n      <td>16.0</td>\n      <td>0</td>\n      <td>303.0</td>\n      <td>70.0</td>\n      <td>151.0</td>\n      <td>565.0</td>\n      <td>2.0</td>\n      <td>F</td>\n      <td>1</td>\n      <td>S</td>\n    </tr>\n  </tbody>\n</table>\n</div>"
     },
     "execution_count": 7,
     "metadata": {},
     "output_type": "execute_result"
    }
   ],
   "source": [
    "dataset_df[null_col_con] = dataset_df[null_col_con].fillna(value=0)\n",
    "dataset_df[null_col_bool] = dataset_df[null_col_bool].fillna(value=0)\n",
    "dataset_df[null_col_dec] = dataset_df[null_col_dec].fillna('U')\n",
    "\n",
    "\n",
    "dataset_df[null_col_con] = dataset_df[null_col_con].fillna(value=0)\n",
    "dataset_df['Num'] = dataset_df['Num'].astype(int)\n",
    "dataset_df[null_col_bool] = dataset_df[null_col_bool].astype(int)\n",
    "dataset_df.head()"
   ],
   "metadata": {
    "collapsed": false,
    "ExecuteTime": {
     "start_time": "2023-05-25T11:18:00.648082Z",
     "end_time": "2023-05-25T11:18:00.800510Z"
    }
   }
  },
  {
   "cell_type": "code",
   "execution_count": 8,
   "outputs": [
    {
     "data": {
      "text/plain": "   CryoSleep       Age  VIP  RoomService  FoodCourt  ShoppingMall       Spa  \\\n0          0  0.493671    0     0.000000   0.000000      0.000000  0.000000   \n1          0  0.303797    0     0.007608   0.000302      0.001064  0.024500   \n2          0  0.734177    1     0.003001   0.119948      0.000000  0.299670   \n3          0  0.417722    0     0.000000   0.043035      0.015793  0.148563   \n4          0  0.202532    0     0.021149   0.002348      0.006428  0.025214   \n\n     VRDeck  Num  HomePlanet_Earth  ...  Deck_C  Deck_D  Deck_E  Deck_F  \\\n0  0.000000    0                 0  ...       0       0       0       0   \n1  0.001823    0                 1  ...       0       0       0       1   \n2  0.002030    0                 0  ...       0       0       0       0   \n3  0.007997    0                 0  ...       0       0       0       0   \n4  0.000083    1                 1  ...       0       0       0       1   \n\n   Deck_G  Deck_T  Deck_U  Side_P  Side_S  Side_U  \n0       0       0       0       1       0       0  \n1       0       0       0       0       1       0  \n2       0       0       0       0       1       0  \n3       0       0       0       0       1       0  \n4       0       0       0       0       1       0  \n\n[5 rows x 29 columns]",
      "text/html": "<div>\n<style scoped>\n    .dataframe tbody tr th:only-of-type {\n        vertical-align: middle;\n    }\n\n    .dataframe tbody tr th {\n        vertical-align: top;\n    }\n\n    .dataframe thead th {\n        text-align: right;\n    }\n</style>\n<table border=\"1\" class=\"dataframe\">\n  <thead>\n    <tr style=\"text-align: right;\">\n      <th></th>\n      <th>CryoSleep</th>\n      <th>Age</th>\n      <th>VIP</th>\n      <th>RoomService</th>\n      <th>FoodCourt</th>\n      <th>ShoppingMall</th>\n      <th>Spa</th>\n      <th>VRDeck</th>\n      <th>Num</th>\n      <th>HomePlanet_Earth</th>\n      <th>...</th>\n      <th>Deck_C</th>\n      <th>Deck_D</th>\n      <th>Deck_E</th>\n      <th>Deck_F</th>\n      <th>Deck_G</th>\n      <th>Deck_T</th>\n      <th>Deck_U</th>\n      <th>Side_P</th>\n      <th>Side_S</th>\n      <th>Side_U</th>\n    </tr>\n  </thead>\n  <tbody>\n    <tr>\n      <th>0</th>\n      <td>0</td>\n      <td>0.493671</td>\n      <td>0</td>\n      <td>0.000000</td>\n      <td>0.000000</td>\n      <td>0.000000</td>\n      <td>0.000000</td>\n      <td>0.000000</td>\n      <td>0</td>\n      <td>0</td>\n      <td>...</td>\n      <td>0</td>\n      <td>0</td>\n      <td>0</td>\n      <td>0</td>\n      <td>0</td>\n      <td>0</td>\n      <td>0</td>\n      <td>1</td>\n      <td>0</td>\n      <td>0</td>\n    </tr>\n    <tr>\n      <th>1</th>\n      <td>0</td>\n      <td>0.303797</td>\n      <td>0</td>\n      <td>0.007608</td>\n      <td>0.000302</td>\n      <td>0.001064</td>\n      <td>0.024500</td>\n      <td>0.001823</td>\n      <td>0</td>\n      <td>1</td>\n      <td>...</td>\n      <td>0</td>\n      <td>0</td>\n      <td>0</td>\n      <td>1</td>\n      <td>0</td>\n      <td>0</td>\n      <td>0</td>\n      <td>0</td>\n      <td>1</td>\n      <td>0</td>\n    </tr>\n    <tr>\n      <th>2</th>\n      <td>0</td>\n      <td>0.734177</td>\n      <td>1</td>\n      <td>0.003001</td>\n      <td>0.119948</td>\n      <td>0.000000</td>\n      <td>0.299670</td>\n      <td>0.002030</td>\n      <td>0</td>\n      <td>0</td>\n      <td>...</td>\n      <td>0</td>\n      <td>0</td>\n      <td>0</td>\n      <td>0</td>\n      <td>0</td>\n      <td>0</td>\n      <td>0</td>\n      <td>0</td>\n      <td>1</td>\n      <td>0</td>\n    </tr>\n    <tr>\n      <th>3</th>\n      <td>0</td>\n      <td>0.417722</td>\n      <td>0</td>\n      <td>0.000000</td>\n      <td>0.043035</td>\n      <td>0.015793</td>\n      <td>0.148563</td>\n      <td>0.007997</td>\n      <td>0</td>\n      <td>0</td>\n      <td>...</td>\n      <td>0</td>\n      <td>0</td>\n      <td>0</td>\n      <td>0</td>\n      <td>0</td>\n      <td>0</td>\n      <td>0</td>\n      <td>0</td>\n      <td>1</td>\n      <td>0</td>\n    </tr>\n    <tr>\n      <th>4</th>\n      <td>0</td>\n      <td>0.202532</td>\n      <td>0</td>\n      <td>0.021149</td>\n      <td>0.002348</td>\n      <td>0.006428</td>\n      <td>0.025214</td>\n      <td>0.000083</td>\n      <td>1</td>\n      <td>1</td>\n      <td>...</td>\n      <td>0</td>\n      <td>0</td>\n      <td>0</td>\n      <td>1</td>\n      <td>0</td>\n      <td>0</td>\n      <td>0</td>\n      <td>0</td>\n      <td>1</td>\n      <td>0</td>\n    </tr>\n  </tbody>\n</table>\n<p>5 rows × 29 columns</p>\n</div>"
     },
     "execution_count": 8,
     "metadata": {},
     "output_type": "execute_result"
    }
   ],
   "source": [
    "# 自定义离差标准化函数\n",
    "def minmaxscale(data):\n",
    "    data=(data-data.min())/(data.max()-data.min())\n",
    "    return data\n",
    "for col in null_col_con:\n",
    "    dataset_df[col] = minmaxscale(dataset_df[col] )\n",
    "# one-hot编码:最后得到29列特征值\n",
    "dataset_df = pd.get_dummies(dataset_df, columns=null_col_dec)\n",
    "dataset_df.head()"
   ],
   "metadata": {
    "collapsed": false,
    "ExecuteTime": {
     "start_time": "2023-05-25T11:18:00.715901Z",
     "end_time": "2023-05-25T11:18:00.870879Z"
    }
   }
  },
  {
   "cell_type": "markdown",
   "source": [],
   "metadata": {
    "collapsed": false
   }
  },
  {
   "cell_type": "code",
   "execution_count": 9,
   "outputs": [
    {
     "data": {
      "text/plain": "(6954, 29)"
     },
     "execution_count": 9,
     "metadata": {},
     "output_type": "execute_result"
    }
   ],
   "source": [
    "dataset = dataset_df.values\n",
    "target = target.values\n",
    "X_train, X_test, y_train, y_test = train_test_split(dataset, target, test_size = 0.2, random_state = 1234)\n",
    "X_train.shape"
   ],
   "metadata": {
    "collapsed": false,
    "ExecuteTime": {
     "start_time": "2023-05-25T11:18:00.762745Z",
     "end_time": "2023-05-25T11:18:00.871066Z"
    }
   }
  },
  {
   "cell_type": "markdown",
   "source": [
    "## 模型定义"
   ],
   "metadata": {
    "collapsed": false
   }
  },
  {
   "cell_type": "code",
   "execution_count": 10,
   "outputs": [],
   "source": [
    "# 定义神经网络模型\n",
    "class NN(nn.Module):\n",
    "    def __init__(self):\n",
    "        super(NN, self).__init__()\n",
    "        self.linear_relu_stack = nn.Sequential(\n",
    "            nn.Linear(29, 15), # 单隐层12个神经元\n",
    "            nn.ReLU(),\n",
    "            nn.Linear(15, 2),\n",
    "        )\n",
    "\n",
    "    def forward(self, x):\n",
    "        logits = self.linear_relu_stack(x)\n",
    "        out = torch.sigmoid(logits)\n",
    "        return out\n",
    "\n"
   ],
   "metadata": {
    "collapsed": false,
    "ExecuteTime": {
     "start_time": "2023-05-25T11:18:00.775739Z",
     "end_time": "2023-05-25T11:18:00.871122Z"
    }
   }
  },
  {
   "cell_type": "markdown",
   "source": [
    "## 训练模型"
   ],
   "metadata": {
    "collapsed": false
   }
  },
  {
   "cell_type": "code",
   "execution_count": 27,
   "outputs": [],
   "source": [
    "def verify(model):\n",
    "    num_correct = 0\n",
    "    model.eval()  # 将模型调整为 eval 模式\n",
    "    with torch.no_grad():\n",
    "        for i  in range(len(X_test)):\n",
    "            inputs = torch.tensor(X_test[i],dtype=torch.float)\n",
    "            labels = torch.tensor(y_test[i],dtype=torch.long)\n",
    "            outputs = model(inputs)\n",
    "\n",
    "            _, predictions = outputs.max(0)\n",
    "            num_correct += (predictions == labels).sum()\n",
    "        acc = float(num_correct)/len(X_test)*100\n",
    "        # print(f'Got {num_correct} / {len(X_test)} with accuracy {acc:.2f}')\n",
    "    return acc\n"
   ],
   "metadata": {
    "collapsed": false,
    "ExecuteTime": {
     "start_time": "2023-05-25T11:42:31.742241Z",
     "end_time": "2023-05-25T11:42:31.761701Z"
    }
   }
  },
  {
   "cell_type": "code",
   "execution_count": 44,
   "outputs": [
    {
     "name": "stdout",
     "output_type": "stream",
     "text": [
      "14 54.2840713053479███████████████████████████with accuracy 51.06\n"
     ]
    }
   ],
   "source": [
    "model = NN()\n",
    "loss_fn = torch.nn.CrossEntropyLoss()\n",
    "optimizer = optim.SGD(model.parameters(), lr=0.01)\n",
    "# 训练模型\n",
    "total_epoch = 100\n",
    "best_acc = 0\n",
    "best_epoch = 0\n",
    "for epoch in range(total_epoch+1):\n",
    "    model.train()\n",
    "    for i  in range(len(X_train)):\n",
    "        inputs = torch.tensor(X_train[i],dtype=torch.float)\n",
    "        labels = torch.tensor(y_train[i],dtype=torch.long)\n",
    "\n",
    "        optimizer.zero_grad()   # 清空梯度\n",
    "        outputs = model(inputs)  # 正向传播\n",
    "        loss = loss_fn(outputs, labels)  # 计算损失\n",
    "        loss.backward()  # 反向传播\n",
    "        optimizer.step()  # 更新参数\n",
    "\n",
    "    # 寻找最优epoch\n",
    "    acc = verify(model)\n",
    "    if acc > best_acc:\n",
    "        last_file_name = f'./data/model_{best_epoch}.pth'\n",
    "        if os.path.isfile(last_file_name):\n",
    "            os.remove(last_file_name)\n",
    "        torch.save(model, f'./data/model_{epoch}.pth')\n",
    "        best_epoch = epoch\n",
    "        best_acc = acc\n",
    "    print(f\"Epoch [{epoch}/{total_epoch}]:\",end='')\n",
    "    print('█'*int(epoch/total_epoch*30)+'-'*int(30-epoch/total_epoch*30)+f'with accuracy {acc:.2f}',end='\\r')\n",
    "print(best_epoch,best_acc)"
   ],
   "metadata": {
    "collapsed": false,
    "ExecuteTime": {
     "start_time": "2023-05-25T14:06:06.960510Z",
     "end_time": "2023-05-25T14:10:20.742223Z"
    }
   }
  },
  {
   "cell_type": "markdown",
   "source": [
    "## 验证准确度"
   ],
   "metadata": {
    "collapsed": false
   }
  },
  {
   "cell_type": "code",
   "execution_count": 39,
   "outputs": [
    {
     "name": "stdout",
     "output_type": "stream",
     "text": [
      "Got 1094 / 1739 with accuracy 62.91\n"
     ]
    }
   ],
   "source": [
    "num_correct = 0\n",
    "model = torch.load(f'./data/model_{best_epoch}.pth')\n",
    "model.eval()  # 将模型调整为 eval 模式\n",
    "with torch.no_grad():\n",
    "    for i  in range(len(X_test)):\n",
    "        inputs = torch.tensor(X_test[i],dtype=torch.float)\n",
    "        labels = torch.tensor(y_test[i],dtype=torch.long)\n",
    "        outputs = model(inputs)\n",
    "\n",
    "        _, predictions = outputs.max(0)\n",
    "        num_correct += (predictions == labels).sum()\n",
    "    acc = float(num_correct)/len(X_test)*100\n",
    "    print(f'Got {num_correct} / {len(X_test)} with accuracy {acc:.2f}')"
   ],
   "metadata": {
    "collapsed": false,
    "ExecuteTime": {
     "start_time": "2023-05-25T14:04:52.279429Z",
     "end_time": "2023-05-25T14:04:52.415047Z"
    }
   }
  },
  {
   "cell_type": "markdown",
   "source": [],
   "metadata": {
    "collapsed": false
   }
  },
  {
   "cell_type": "markdown",
   "source": [
    "## Submission"
   ],
   "metadata": {
    "collapsed": false
   }
  },
  {
   "cell_type": "code",
   "execution_count": 40,
   "outputs": [
    {
     "data": {
      "text/plain": "  HomePlanet CryoSleep  Destination   Age    VIP  RoomService  FoodCourt  \\\n0      Earth      True  TRAPPIST-1e  27.0  False          0.0        0.0   \n1      Earth     False  TRAPPIST-1e  19.0  False          0.0        9.0   \n2     Europa      True  55 Cancri e  31.0  False          0.0        0.0   \n3     Europa     False  TRAPPIST-1e  38.0  False          0.0     6652.0   \n4      Earth     False  TRAPPIST-1e  20.0  False         10.0        0.0   \n\n   ShoppingMall     Spa  VRDeck Deck Num Side  \n0           0.0     0.0     0.0    G   3    S  \n1           0.0  2823.0     0.0    F   4    S  \n2           0.0     0.0     0.0    C   0    S  \n3           0.0   181.0   585.0    C   1    S  \n4         635.0     0.0     0.0    F   5    S  ",
      "text/html": "<div>\n<style scoped>\n    .dataframe tbody tr th:only-of-type {\n        vertical-align: middle;\n    }\n\n    .dataframe tbody tr th {\n        vertical-align: top;\n    }\n\n    .dataframe thead th {\n        text-align: right;\n    }\n</style>\n<table border=\"1\" class=\"dataframe\">\n  <thead>\n    <tr style=\"text-align: right;\">\n      <th></th>\n      <th>HomePlanet</th>\n      <th>CryoSleep</th>\n      <th>Destination</th>\n      <th>Age</th>\n      <th>VIP</th>\n      <th>RoomService</th>\n      <th>FoodCourt</th>\n      <th>ShoppingMall</th>\n      <th>Spa</th>\n      <th>VRDeck</th>\n      <th>Deck</th>\n      <th>Num</th>\n      <th>Side</th>\n    </tr>\n  </thead>\n  <tbody>\n    <tr>\n      <th>0</th>\n      <td>Earth</td>\n      <td>True</td>\n      <td>TRAPPIST-1e</td>\n      <td>27.0</td>\n      <td>False</td>\n      <td>0.0</td>\n      <td>0.0</td>\n      <td>0.0</td>\n      <td>0.0</td>\n      <td>0.0</td>\n      <td>G</td>\n      <td>3</td>\n      <td>S</td>\n    </tr>\n    <tr>\n      <th>1</th>\n      <td>Earth</td>\n      <td>False</td>\n      <td>TRAPPIST-1e</td>\n      <td>19.0</td>\n      <td>False</td>\n      <td>0.0</td>\n      <td>9.0</td>\n      <td>0.0</td>\n      <td>2823.0</td>\n      <td>0.0</td>\n      <td>F</td>\n      <td>4</td>\n      <td>S</td>\n    </tr>\n    <tr>\n      <th>2</th>\n      <td>Europa</td>\n      <td>True</td>\n      <td>55 Cancri e</td>\n      <td>31.0</td>\n      <td>False</td>\n      <td>0.0</td>\n      <td>0.0</td>\n      <td>0.0</td>\n      <td>0.0</td>\n      <td>0.0</td>\n      <td>C</td>\n      <td>0</td>\n      <td>S</td>\n    </tr>\n    <tr>\n      <th>3</th>\n      <td>Europa</td>\n      <td>False</td>\n      <td>TRAPPIST-1e</td>\n      <td>38.0</td>\n      <td>False</td>\n      <td>0.0</td>\n      <td>6652.0</td>\n      <td>0.0</td>\n      <td>181.0</td>\n      <td>585.0</td>\n      <td>C</td>\n      <td>1</td>\n      <td>S</td>\n    </tr>\n    <tr>\n      <th>4</th>\n      <td>Earth</td>\n      <td>False</td>\n      <td>TRAPPIST-1e</td>\n      <td>20.0</td>\n      <td>False</td>\n      <td>10.0</td>\n      <td>0.0</td>\n      <td>635.0</td>\n      <td>0.0</td>\n      <td>0.0</td>\n      <td>F</td>\n      <td>5</td>\n      <td>S</td>\n    </tr>\n  </tbody>\n</table>\n</div>"
     },
     "execution_count": 40,
     "metadata": {},
     "output_type": "execute_result"
    }
   ],
   "source": [
    "test_data = pd.read_csv('./data/test.csv')\n",
    "submission_id = test_data['PassengerId']\n",
    "test_data = test_data.drop(['PassengerId', 'Name'], axis=1)\n",
    "test_data[[\"Deck\", \"Num\", \"Side\"]] = test_data[\"Cabin\"].str.split(\"/\", expand=True)\n",
    "test_data = test_data.drop('Cabin',axis=1)\n",
    "test_data.head()"
   ],
   "metadata": {
    "collapsed": false,
    "ExecuteTime": {
     "start_time": "2023-05-25T14:05:04.125955Z",
     "end_time": "2023-05-25T14:05:04.229363Z"
    }
   }
  },
  {
   "cell_type": "code",
   "execution_count": 41,
   "outputs": [
    {
     "data": {
      "text/plain": "  HomePlanet  CryoSleep  Destination   Age  VIP  RoomService  FoodCourt  \\\n0      Earth          1  TRAPPIST-1e  27.0    0          0.0        0.0   \n1      Earth          0  TRAPPIST-1e  19.0    0          0.0        9.0   \n2     Europa          1  55 Cancri e  31.0    0          0.0        0.0   \n3     Europa          0  TRAPPIST-1e  38.0    0          0.0     6652.0   \n4      Earth          0  TRAPPIST-1e  20.0    0         10.0        0.0   \n\n   ShoppingMall     Spa  VRDeck Deck  Num Side  \n0           0.0     0.0     0.0    G    3    S  \n1           0.0  2823.0     0.0    F    4    S  \n2           0.0     0.0     0.0    C    0    S  \n3           0.0   181.0   585.0    C    1    S  \n4         635.0     0.0     0.0    F    5    S  ",
      "text/html": "<div>\n<style scoped>\n    .dataframe tbody tr th:only-of-type {\n        vertical-align: middle;\n    }\n\n    .dataframe tbody tr th {\n        vertical-align: top;\n    }\n\n    .dataframe thead th {\n        text-align: right;\n    }\n</style>\n<table border=\"1\" class=\"dataframe\">\n  <thead>\n    <tr style=\"text-align: right;\">\n      <th></th>\n      <th>HomePlanet</th>\n      <th>CryoSleep</th>\n      <th>Destination</th>\n      <th>Age</th>\n      <th>VIP</th>\n      <th>RoomService</th>\n      <th>FoodCourt</th>\n      <th>ShoppingMall</th>\n      <th>Spa</th>\n      <th>VRDeck</th>\n      <th>Deck</th>\n      <th>Num</th>\n      <th>Side</th>\n    </tr>\n  </thead>\n  <tbody>\n    <tr>\n      <th>0</th>\n      <td>Earth</td>\n      <td>1</td>\n      <td>TRAPPIST-1e</td>\n      <td>27.0</td>\n      <td>0</td>\n      <td>0.0</td>\n      <td>0.0</td>\n      <td>0.0</td>\n      <td>0.0</td>\n      <td>0.0</td>\n      <td>G</td>\n      <td>3</td>\n      <td>S</td>\n    </tr>\n    <tr>\n      <th>1</th>\n      <td>Earth</td>\n      <td>0</td>\n      <td>TRAPPIST-1e</td>\n      <td>19.0</td>\n      <td>0</td>\n      <td>0.0</td>\n      <td>9.0</td>\n      <td>0.0</td>\n      <td>2823.0</td>\n      <td>0.0</td>\n      <td>F</td>\n      <td>4</td>\n      <td>S</td>\n    </tr>\n    <tr>\n      <th>2</th>\n      <td>Europa</td>\n      <td>1</td>\n      <td>55 Cancri e</td>\n      <td>31.0</td>\n      <td>0</td>\n      <td>0.0</td>\n      <td>0.0</td>\n      <td>0.0</td>\n      <td>0.0</td>\n      <td>0.0</td>\n      <td>C</td>\n      <td>0</td>\n      <td>S</td>\n    </tr>\n    <tr>\n      <th>3</th>\n      <td>Europa</td>\n      <td>0</td>\n      <td>TRAPPIST-1e</td>\n      <td>38.0</td>\n      <td>0</td>\n      <td>0.0</td>\n      <td>6652.0</td>\n      <td>0.0</td>\n      <td>181.0</td>\n      <td>585.0</td>\n      <td>C</td>\n      <td>1</td>\n      <td>S</td>\n    </tr>\n    <tr>\n      <th>4</th>\n      <td>Earth</td>\n      <td>0</td>\n      <td>TRAPPIST-1e</td>\n      <td>20.0</td>\n      <td>0</td>\n      <td>10.0</td>\n      <td>0.0</td>\n      <td>635.0</td>\n      <td>0.0</td>\n      <td>0.0</td>\n      <td>F</td>\n      <td>5</td>\n      <td>S</td>\n    </tr>\n  </tbody>\n</table>\n</div>"
     },
     "execution_count": 41,
     "metadata": {},
     "output_type": "execute_result"
    }
   ],
   "source": [
    "# 缺失值处理\n",
    "test_data[null_col_con] = test_data[null_col_con].fillna(value=0)\n",
    "test_data[null_col_bool] = test_data[null_col_bool].fillna(value=0)\n",
    "test_data[null_col_dec] = test_data[null_col_dec].fillna('U')\n",
    "\n",
    "\n",
    "test_data[null_col_con] = test_data[null_col_con].fillna(value=0)\n",
    "test_data['Num'] = test_data['Num'].astype(int)\n",
    "test_data[null_col_bool] = test_data[null_col_bool].astype(int)\n",
    "test_data.head()"
   ],
   "metadata": {
    "collapsed": false,
    "ExecuteTime": {
     "start_time": "2023-05-25T14:05:06.960443Z",
     "end_time": "2023-05-25T14:05:07.002607Z"
    }
   }
  },
  {
   "cell_type": "code",
   "execution_count": 42,
   "outputs": [],
   "source": [
    "# 标准化\n",
    "for col in null_col_con:\n",
    "    test_data[col] = minmaxscale(test_data[col] )\n",
    "# 离散化\n",
    "test_data = pd.get_dummies(test_data, columns=null_col_dec)\n",
    "test_data.head()\n",
    "test_data = test_data.values"
   ],
   "metadata": {
    "collapsed": false,
    "ExecuteTime": {
     "start_time": "2023-05-25T14:05:07.877173Z",
     "end_time": "2023-05-25T14:05:07.918225Z"
    }
   }
  },
  {
   "cell_type": "code",
   "execution_count": 43,
   "outputs": [
    {
     "name": "stdout",
     "output_type": "stream",
     "text": [
      "     PassengerId  Transported\n",
      "0        0013_01         True\n",
      "1        0018_01        False\n",
      "2        0019_01         True\n",
      "3        0021_01         True\n",
      "4        0023_01        False\n",
      "...          ...          ...\n",
      "4272     9266_02        False\n",
      "4273     9269_01        False\n",
      "4274     9271_01        False\n",
      "4275     9273_01        False\n",
      "4276     9277_01        False\n",
      "\n",
      "[4277 rows x 2 columns]\n"
     ]
    }
   ],
   "source": [
    "# 输出预测结果\n",
    "n_predictions =[]\n",
    "model.eval()\n",
    "with torch.no_grad():\n",
    "    for i  in range(len(test_data)):\n",
    "        inputs = torch.tensor(test_data[i],dtype=torch.float)\n",
    "        outputs = model(inputs)  # 正向传播\n",
    "\n",
    "        _, predictions = outputs.max(0)\n",
    "        n_predictions.append(True if predictions.numpy()==1 else False)\n",
    "\n",
    "submission = pd.DataFrame({'PassengerId': submission_id,\n",
    "                   'Transported': n_predictions})\n",
    "submission.to_csv('./data/submission_byNN.csv', index=False)\n",
    "print(submission)"
   ],
   "metadata": {
    "collapsed": false,
    "ExecuteTime": {
     "start_time": "2023-05-25T14:05:08.981587Z",
     "end_time": "2023-05-25T14:05:09.284167Z"
    }
   }
  },
  {
   "cell_type": "code",
   "execution_count": null,
   "outputs": [],
   "source": [],
   "metadata": {
    "collapsed": false
   }
  }
 ],
 "metadata": {
  "kernelspec": {
   "display_name": "Python 3",
   "language": "python",
   "name": "python3"
  },
  "language_info": {
   "codemirror_mode": {
    "name": "ipython",
    "version": 2
   },
   "file_extension": ".py",
   "mimetype": "text/x-python",
   "name": "python",
   "nbconvert_exporter": "python",
   "pygments_lexer": "ipython2",
   "version": "2.7.6"
  }
 },
 "nbformat": 4,
 "nbformat_minor": 0
}
